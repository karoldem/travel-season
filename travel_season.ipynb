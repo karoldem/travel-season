{
  "nbformat": 4,
  "nbformat_minor": 0,
  "metadata": {
    "colab": {
      "provenance": [],
      "authorship_tag": "ABX9TyOAxKE/psEqYZb0+ZSuZYoN",
      "include_colab_link": true
    },
    "kernelspec": {
      "name": "python3",
      "display_name": "Python 3"
    },
    "language_info": {
      "name": "python"
    }
  },
  "cells": [
    {
      "cell_type": "markdown",
      "metadata": {
        "id": "view-in-github",
        "colab_type": "text"
      },
      "source": [
        "<a href=\"https://colab.research.google.com/github/karoldem/travel-season/blob/main/travel_season.ipynb\" target=\"_parent\"><img src=\"https://colab.research.google.com/assets/colab-badge.svg\" alt=\"Open In Colab\"/></a>"
      ]
    },
    {
      "cell_type": "code",
      "execution_count": null,
      "metadata": {
        "id": "rAAyOtscXgXd"
      },
      "outputs": [],
      "source": [
        "import pandas as pd\n",
        "europe = \"https://raw.githubusercontent.com/karoldem/travel-season/main/List_of_cities_by_average_temperature_1.csv\"\n",
        "europe = pd.read_csv(europe)\n",
        "\n"
      ]
    },
    {
      "cell_type": "code",
      "source": [
        "import numpy, scipy.optimize\n",
        "\n",
        "def fit_sin(tt, yy):\n",
        "    '''Fit sin to the input time sequence, and return fitting parameters \"amp\", \"omega\", \"phase\", \"offset\", \"freq\", \"period\" and \"fitfunc\"'''\n",
        "    tt = numpy.array(tt)\n",
        "    yy = numpy.array(yy)\n",
        "    ff = numpy.fft.fftfreq(len(tt), (tt[1]-tt[0]))   # assume uniform spacing\n",
        "    Fyy = abs(numpy.fft.fft(yy))\n",
        "    guess_freq = abs(ff[numpy.argmax(Fyy[1:])+1])   # excluding the zero frequency \"peak\", which is related to offset\n",
        "    guess_amp = numpy.std(yy) * 2.**0.5\n",
        "    guess_offset = numpy.mean(yy)\n",
        "    guess = numpy.array([guess_amp, 2.*numpy.pi*guess_freq, 0., guess_offset])\n",
        "\n",
        "    def sinfunc(t, A, w, p, c):  return A * numpy.sin(w*t + p) + c\n",
        "    popt, pcov = scipy.optimize.curve_fit(sinfunc, tt, yy, p0=guess)\n",
        "    A, w, p, c = popt\n",
        "    f = w/(2.*numpy.pi)\n",
        "    fitfunc = lambda t: A * numpy.sin(w*t + p) + c\n",
        "    return {\"amp\": A, \"omega\": w, \"phase\": p, \"offset\": c, \"freq\": f, \"period\": 1./f, \"fitfunc\": fitfunc, \"maxcov\": numpy.max(pcov), \"rawres\": (guess,popt,pcov)}"
      ],
      "metadata": {
        "id": "DxR1AmiM8TeE"
      },
      "execution_count": null,
      "outputs": []
    },
    {
      "cell_type": "code",
      "source": [
        "import numpy, scipy.optimize\n",
        "\n",
        "def fit_sin(tt, yy):\n",
        "    '''Fit sin to the input time sequence, and return fitting parameters \"amp\", \"omega\", \"offset\" and \"fitfunc\"'''\n",
        "    tt = numpy.array(tt)\n",
        "    yy = numpy.array(yy)\n",
        "    ff = numpy.fft.fftfreq(len(tt), (tt[1]-tt[0]))   # assume uniform spacing\n",
        "    guess_amp = numpy.std(yy) * 2.**0.5\n",
        "    guess_offset = numpy.mean(yy)\n",
        "    guess = numpy.array([guess_amp, 0., guess_offset])\n",
        "\n",
        "    def sinfunc(t, A, p, c):  return A * numpy.sin(0.5235987755982988*t + p) + c\n",
        "    popt, pcov = scipy.optimize.curve_fit(sinfunc, tt, yy, p0=guess)\n",
        "    A, p, c = popt\n",
        "    f = 0.5235987755982988/(2.*numpy.pi)\n",
        "    fitfunc = lambda t: A * numpy.sin(0.5235987755982988*t + p) + c\n",
        "    return {\"amp\": A,  \"phase\": p, \"offset\": c, \"fitfunc\": fitfunc, \"maxcov\": numpy.max(pcov), \"rawres\": (guess,popt,pcov)}"
      ],
      "metadata": {
        "id": "ARNRUCTM-95b"
      },
      "execution_count": 1,
      "outputs": []
    },
    {
      "cell_type": "code",
      "source": [
        "from re import findall\n",
        "\n",
        "def inject(data, dataframe, variable):\n",
        "    for i in dataframe.index:\n",
        "\n",
        "        k = []\n",
        "        for j in ['Jan','Feb','Mar','Apr','May','Jun','Jul','Aug','Sep','Oct','Nov','Dec']:\n",
        "            try:\n",
        "                string = dataframe.loc[i][j]\n",
        "                string = string.replace('−', '-') #No, they are not the same\n",
        "                string = findall(r\"[-+]?(?:\\d*\\.*\\d*)\", string )\n",
        "                string = list(   filter( ('').__ne__, string )   )[0]\n",
        "                k.append ( float(string) )\n",
        "                \n",
        "            except:\n",
        "                print(dataframe.loc[i])\n",
        "\n",
        "        temporaryNvmVaiable = fit_sin([0,1,2,3,4,5,6,7,8,9,10,11], k)\n",
        "        toAddtemporaryVariable = {}\n",
        "        toAddtemporaryVariable[variable] = {}\n",
        "        toAddtemporaryVariable[variable]['amplitude'] = temporaryNvmVaiable['amp']\n",
        "        toAddtemporaryVariable[variable]['average'] = temporaryNvmVaiable['offset']\n",
        "        toAddtemporaryVariable[variable]['phase'] = temporaryNvmVaiable['phase']\n",
        "\n",
        "        data[(dataframe.loc[i]['City'], dataframe.loc[i]['Country'])] = toAddtemporaryVariable"
      ],
      "metadata": {
        "id": "VdbRxeBUs5yB"
      },
      "execution_count": 7,
      "outputs": []
    },
    {
      "cell_type": "code",
      "source": [
        "import requests\n",
        "import pandas as pd\n",
        "\n",
        "data = {}\n",
        "\n",
        "urls = [{'variable' : 'temperature', 'url' : 'https://en.wikipedia.org/wiki/List_of_cities_by_average_temperature'},\n",
        "        {'variable' : 'sunshine', 'url' : 'https://en.wikipedia.org/wiki/List_of_cities_by_sunshine_duration'}]\n",
        "\n",
        "for url in urls:\n",
        "    html = requests.get(url['url']).content\n",
        "    df_list = pd.read_html(html)\n",
        "    for i in df_list:\n",
        "            inject(data, i, url['variable'])\n",
        "\n"
      ],
      "metadata": {
        "colab": {
          "base_uri": "https://localhost:8080/",
          "height": 1000
        },
        "id": "5fdc79mh9Ab4",
        "outputId": "a97bf505-c688-4c59-bdbf-cca61ff59686"
      },
      "execution_count": 8,
      "outputs": [
        {
          "output_type": "stream",
          "name": "stdout",
          "text": [
            "0                                                  NaN\n",
            "1    This article uses bare URLs, which are uninfor...\n",
            "Name: 0, dtype: object\n",
            "0                                                  NaN\n",
            "1    This article uses bare URLs, which are uninfor...\n",
            "Name: 0, dtype: object\n",
            "0                                                  NaN\n",
            "1    This article uses bare URLs, which are uninfor...\n",
            "Name: 0, dtype: object\n",
            "0                                                  NaN\n",
            "1    This article uses bare URLs, which are uninfor...\n",
            "Name: 0, dtype: object\n",
            "0                                                  NaN\n",
            "1    This article uses bare URLs, which are uninfor...\n",
            "Name: 0, dtype: object\n",
            "0                                                  NaN\n",
            "1    This article uses bare URLs, which are uninfor...\n",
            "Name: 0, dtype: object\n",
            "0                                                  NaN\n",
            "1    This article uses bare URLs, which are uninfor...\n",
            "Name: 0, dtype: object\n",
            "0                                                  NaN\n",
            "1    This article uses bare URLs, which are uninfor...\n",
            "Name: 0, dtype: object\n",
            "0                                                  NaN\n",
            "1    This article uses bare URLs, which are uninfor...\n",
            "Name: 0, dtype: object\n",
            "0                                                  NaN\n",
            "1    This article uses bare URLs, which are uninfor...\n",
            "Name: 0, dtype: object\n",
            "0                                                  NaN\n",
            "1    This article uses bare URLs, which are uninfor...\n",
            "Name: 0, dtype: object\n",
            "0                                                  NaN\n",
            "1    This article uses bare URLs, which are uninfor...\n",
            "Name: 0, dtype: object\n"
          ]
        },
        {
          "output_type": "stream",
          "name": "stderr",
          "text": [
            "/usr/local/lib/python3.8/dist-packages/numpy/core/_methods.py:262: RuntimeWarning: Degrees of freedom <= 0 for slice\n",
            "  ret = _var(a, axis=axis, dtype=dtype, out=out, ddof=ddof,\n",
            "/usr/local/lib/python3.8/dist-packages/numpy/core/_methods.py:222: RuntimeWarning: invalid value encountered in true_divide\n",
            "  arrmean = um.true_divide(arrmean, div, out=arrmean, casting='unsafe',\n",
            "/usr/local/lib/python3.8/dist-packages/numpy/core/_methods.py:254: RuntimeWarning: invalid value encountered in double_scalars\n",
            "  ret = ret.dtype.type(ret / rcount)\n",
            "/usr/local/lib/python3.8/dist-packages/numpy/core/fromnumeric.py:3440: RuntimeWarning: Mean of empty slice.\n",
            "  return _methods._mean(a, axis=axis, dtype=dtype,\n",
            "/usr/local/lib/python3.8/dist-packages/numpy/core/_methods.py:189: RuntimeWarning: invalid value encountered in double_scalars\n",
            "  ret = ret.dtype.type(ret / rcount)\n"
          ]
        },
        {
          "output_type": "error",
          "ename": "ValueError",
          "evalue": "ignored",
          "traceback": [
            "\u001b[0;31m---------------------------------------------------------------------------\u001b[0m",
            "\u001b[0;31mValueError\u001b[0m                                Traceback (most recent call last)",
            "\u001b[0;32m<ipython-input-8-b8ff7d4dc546>\u001b[0m in \u001b[0;36m<module>\u001b[0;34m\u001b[0m\n\u001b[1;32m     11\u001b[0m     \u001b[0mdf_list\u001b[0m \u001b[0;34m=\u001b[0m \u001b[0mpd\u001b[0m\u001b[0;34m.\u001b[0m\u001b[0mread_html\u001b[0m\u001b[0;34m(\u001b[0m\u001b[0mhtml\u001b[0m\u001b[0;34m)\u001b[0m\u001b[0;34m\u001b[0m\u001b[0;34m\u001b[0m\u001b[0m\n\u001b[1;32m     12\u001b[0m     \u001b[0;32mfor\u001b[0m \u001b[0mi\u001b[0m \u001b[0;32min\u001b[0m \u001b[0mdf_list\u001b[0m\u001b[0;34m:\u001b[0m\u001b[0;34m\u001b[0m\u001b[0;34m\u001b[0m\u001b[0m\n\u001b[0;32m---> 13\u001b[0;31m             \u001b[0minject\u001b[0m\u001b[0;34m(\u001b[0m\u001b[0mdata\u001b[0m\u001b[0;34m,\u001b[0m \u001b[0mi\u001b[0m\u001b[0;34m,\u001b[0m \u001b[0murl\u001b[0m\u001b[0;34m[\u001b[0m\u001b[0;34m'variable'\u001b[0m\u001b[0;34m]\u001b[0m\u001b[0;34m)\u001b[0m\u001b[0;34m\u001b[0m\u001b[0;34m\u001b[0m\u001b[0m\n\u001b[0m\u001b[1;32m     14\u001b[0m \u001b[0;34m\u001b[0m\u001b[0m\n",
            "\u001b[0;32m<ipython-input-7-dd15634b316b>\u001b[0m in \u001b[0;36minject\u001b[0;34m(data, dataframe, variable)\u001b[0m\n\u001b[1;32m     16\u001b[0m                 \u001b[0mprint\u001b[0m\u001b[0;34m(\u001b[0m\u001b[0mdataframe\u001b[0m\u001b[0;34m.\u001b[0m\u001b[0mloc\u001b[0m\u001b[0;34m[\u001b[0m\u001b[0mi\u001b[0m\u001b[0;34m]\u001b[0m\u001b[0;34m)\u001b[0m\u001b[0;34m\u001b[0m\u001b[0;34m\u001b[0m\u001b[0m\n\u001b[1;32m     17\u001b[0m \u001b[0;34m\u001b[0m\u001b[0m\n\u001b[0;32m---> 18\u001b[0;31m         \u001b[0mtemporaryNvmVaiable\u001b[0m \u001b[0;34m=\u001b[0m \u001b[0mfit_sin\u001b[0m\u001b[0;34m(\u001b[0m\u001b[0;34m[\u001b[0m\u001b[0;36m0\u001b[0m\u001b[0;34m,\u001b[0m\u001b[0;36m1\u001b[0m\u001b[0;34m,\u001b[0m\u001b[0;36m2\u001b[0m\u001b[0;34m,\u001b[0m\u001b[0;36m3\u001b[0m\u001b[0;34m,\u001b[0m\u001b[0;36m4\u001b[0m\u001b[0;34m,\u001b[0m\u001b[0;36m5\u001b[0m\u001b[0;34m,\u001b[0m\u001b[0;36m6\u001b[0m\u001b[0;34m,\u001b[0m\u001b[0;36m7\u001b[0m\u001b[0;34m,\u001b[0m\u001b[0;36m8\u001b[0m\u001b[0;34m,\u001b[0m\u001b[0;36m9\u001b[0m\u001b[0;34m,\u001b[0m\u001b[0;36m10\u001b[0m\u001b[0;34m,\u001b[0m\u001b[0;36m11\u001b[0m\u001b[0;34m]\u001b[0m\u001b[0;34m,\u001b[0m \u001b[0mk\u001b[0m\u001b[0;34m)\u001b[0m\u001b[0;34m\u001b[0m\u001b[0;34m\u001b[0m\u001b[0m\n\u001b[0m\u001b[1;32m     19\u001b[0m         \u001b[0mtoAddtemporaryVariable\u001b[0m \u001b[0;34m=\u001b[0m \u001b[0;34m{\u001b[0m\u001b[0;34m}\u001b[0m\u001b[0;34m\u001b[0m\u001b[0;34m\u001b[0m\u001b[0m\n\u001b[1;32m     20\u001b[0m         \u001b[0mtoAddtemporaryVariable\u001b[0m\u001b[0;34m[\u001b[0m\u001b[0mvariable\u001b[0m\u001b[0;34m]\u001b[0m \u001b[0;34m=\u001b[0m \u001b[0;34m{\u001b[0m\u001b[0;34m}\u001b[0m\u001b[0;34m\u001b[0m\u001b[0;34m\u001b[0m\u001b[0m\n",
            "\u001b[0;32m<ipython-input-1-92099b052d85>\u001b[0m in \u001b[0;36mfit_sin\u001b[0;34m(tt, yy)\u001b[0m\n\u001b[1;32m     11\u001b[0m \u001b[0;34m\u001b[0m\u001b[0m\n\u001b[1;32m     12\u001b[0m     \u001b[0;32mdef\u001b[0m \u001b[0msinfunc\u001b[0m\u001b[0;34m(\u001b[0m\u001b[0mt\u001b[0m\u001b[0;34m,\u001b[0m \u001b[0mA\u001b[0m\u001b[0;34m,\u001b[0m \u001b[0mp\u001b[0m\u001b[0;34m,\u001b[0m \u001b[0mc\u001b[0m\u001b[0;34m)\u001b[0m\u001b[0;34m:\u001b[0m  \u001b[0;32mreturn\u001b[0m \u001b[0mA\u001b[0m \u001b[0;34m*\u001b[0m \u001b[0mnumpy\u001b[0m\u001b[0;34m.\u001b[0m\u001b[0msin\u001b[0m\u001b[0;34m(\u001b[0m\u001b[0;36m0.5235987755982988\u001b[0m\u001b[0;34m*\u001b[0m\u001b[0mt\u001b[0m \u001b[0;34m+\u001b[0m \u001b[0mp\u001b[0m\u001b[0;34m)\u001b[0m \u001b[0;34m+\u001b[0m \u001b[0mc\u001b[0m\u001b[0;34m\u001b[0m\u001b[0;34m\u001b[0m\u001b[0m\n\u001b[0;32m---> 13\u001b[0;31m     \u001b[0mpopt\u001b[0m\u001b[0;34m,\u001b[0m \u001b[0mpcov\u001b[0m \u001b[0;34m=\u001b[0m \u001b[0mscipy\u001b[0m\u001b[0;34m.\u001b[0m\u001b[0moptimize\u001b[0m\u001b[0;34m.\u001b[0m\u001b[0mcurve_fit\u001b[0m\u001b[0;34m(\u001b[0m\u001b[0msinfunc\u001b[0m\u001b[0;34m,\u001b[0m \u001b[0mtt\u001b[0m\u001b[0;34m,\u001b[0m \u001b[0myy\u001b[0m\u001b[0;34m,\u001b[0m \u001b[0mp0\u001b[0m\u001b[0;34m=\u001b[0m\u001b[0mguess\u001b[0m\u001b[0;34m)\u001b[0m\u001b[0;34m\u001b[0m\u001b[0;34m\u001b[0m\u001b[0m\n\u001b[0m\u001b[1;32m     14\u001b[0m     \u001b[0mA\u001b[0m\u001b[0;34m,\u001b[0m \u001b[0mp\u001b[0m\u001b[0;34m,\u001b[0m \u001b[0mc\u001b[0m \u001b[0;34m=\u001b[0m \u001b[0mpopt\u001b[0m\u001b[0;34m\u001b[0m\u001b[0;34m\u001b[0m\u001b[0m\n\u001b[1;32m     15\u001b[0m     \u001b[0mf\u001b[0m \u001b[0;34m=\u001b[0m \u001b[0;36m0.5235987755982988\u001b[0m\u001b[0;34m/\u001b[0m\u001b[0;34m(\u001b[0m\u001b[0;36m2.\u001b[0m\u001b[0;34m*\u001b[0m\u001b[0mnumpy\u001b[0m\u001b[0;34m.\u001b[0m\u001b[0mpi\u001b[0m\u001b[0;34m)\u001b[0m\u001b[0;34m\u001b[0m\u001b[0;34m\u001b[0m\u001b[0m\n",
            "\u001b[0;32m/usr/local/lib/python3.8/dist-packages/scipy/optimize/minpack.py\u001b[0m in \u001b[0;36mcurve_fit\u001b[0;34m(f, xdata, ydata, p0, sigma, absolute_sigma, check_finite, bounds, method, jac, **kwargs)\u001b[0m\n\u001b[1;32m    746\u001b[0m \u001b[0;34m\u001b[0m\u001b[0m\n\u001b[1;32m    747\u001b[0m     \u001b[0;32mif\u001b[0m \u001b[0mydata\u001b[0m\u001b[0;34m.\u001b[0m\u001b[0msize\u001b[0m \u001b[0;34m==\u001b[0m \u001b[0;36m0\u001b[0m\u001b[0;34m:\u001b[0m\u001b[0;34m\u001b[0m\u001b[0;34m\u001b[0m\u001b[0m\n\u001b[0;32m--> 748\u001b[0;31m         \u001b[0;32mraise\u001b[0m \u001b[0mValueError\u001b[0m\u001b[0;34m(\u001b[0m\u001b[0;34m\"`ydata` must not be empty!\"\u001b[0m\u001b[0;34m)\u001b[0m\u001b[0;34m\u001b[0m\u001b[0;34m\u001b[0m\u001b[0m\n\u001b[0m\u001b[1;32m    749\u001b[0m \u001b[0;34m\u001b[0m\u001b[0m\n\u001b[1;32m    750\u001b[0m     \u001b[0;31m# Determine type of sigma\u001b[0m\u001b[0;34m\u001b[0m\u001b[0;34m\u001b[0m\u001b[0;34m\u001b[0m\u001b[0m\n",
            "\u001b[0;31mValueError\u001b[0m: `ydata` must not be empty!"
          ]
        }
      ]
    },
    {
      "cell_type": "code",
      "source": [],
      "metadata": {
        "id": "1ps4H088WlmA"
      },
      "execution_count": null,
      "outputs": []
    },
    {
      "cell_type": "code",
      "source": [
        "data[('Warsaw', 'Poland')]"
      ],
      "metadata": {
        "colab": {
          "base_uri": "https://localhost:8080/"
        },
        "id": "LgrUzmqVk6eO",
        "outputId": "ae0b85b3-17f9-4f72-831e-8765b379d38e"
      },
      "execution_count": null,
      "outputs": [
        {
          "output_type": "execute_result",
          "data": {
            "text/plain": [
              "{'temperature': {'amplitude': 9.607631671680808,\n",
              "  'average': 9.050000001191156,\n",
              "  'phase': -1.576465373858028}}"
            ]
          },
          "metadata": {},
          "execution_count": 28
        }
      ]
    },
    {
      "cell_type": "code",
      "source": [
        "string = dataframe.loc[i][j]\n",
        "string = string.replace('−', '-') #No, they are not the same\n",
        "string = findall(r\"[-+]?(?:\\d*\\.*\\d*)\", string )\n",
        "string = list(   filter( ('').__ne__, string )   )[0]\n",
        "k.append ( float(string) )"
      ],
      "metadata": {
        "id": "uCxvEqJZQ6P1",
        "outputId": "38f511d7-16df-40ef-ee4f-da73b6f3c8c3",
        "colab": {
          "base_uri": "https://localhost:8080/",
          "height": 35
        }
      },
      "execution_count": null,
      "outputs": [
        {
          "output_type": "execute_result",
          "data": {
            "text/plain": [
              "'−2.3'"
            ],
            "application/vnd.google.colaboratory.intrinsic+json": {
              "type": "string"
            }
          },
          "metadata": {},
          "execution_count": 17
        }
      ]
    }
  ]
}