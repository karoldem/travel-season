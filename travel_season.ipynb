{
  "nbformat": 4,
  "nbformat_minor": 0,
  "metadata": {
    "colab": {
      "provenance": [],
      "authorship_tag": "ABX9TyOI7tbkTOTuvYCrM/ax3cmt",
      "include_colab_link": true
    },
    "kernelspec": {
      "name": "python3",
      "display_name": "Python 3"
    },
    "language_info": {
      "name": "python"
    }
  },
  "cells": [
    {
      "cell_type": "markdown",
      "metadata": {
        "id": "view-in-github",
        "colab_type": "text"
      },
      "source": [
        "<a href=\"https://colab.research.google.com/github/karoldem/travel-season/blob/main/travel_season.ipynb\" target=\"_parent\"><img src=\"https://colab.research.google.com/assets/colab-badge.svg\" alt=\"Open In Colab\"/></a>"
      ]
    },
    {
      "cell_type": "code",
      "execution_count": 9,
      "metadata": {
        "id": "rAAyOtscXgXd"
      },
      "outputs": [],
      "source": [
        "import pandas as pd\n",
        "europe = \"https://raw.githubusercontent.com/karoldem/travel-season/main/List_of_cities_by_average_temperature_1.csv\"\n",
        "europe = pd.read_csv(europe)\n",
        "\n"
      ]
    },
    {
      "cell_type": "code",
      "source": [
        "import numpy, scipy.optimize\n",
        "\n",
        "def fit_sin(tt, yy):\n",
        "    '''Fit sin to the input time sequence, and return fitting parameters \"amp\", \"omega\", \"phase\", \"offset\", \"freq\", \"period\" and \"fitfunc\"'''\n",
        "    tt = numpy.array(tt)\n",
        "    yy = numpy.array(yy)\n",
        "    ff = numpy.fft.fftfreq(len(tt), (tt[1]-tt[0]))   # assume uniform spacing\n",
        "    Fyy = abs(numpy.fft.fft(yy))\n",
        "    guess_freq = abs(ff[numpy.argmax(Fyy[1:])+1])   # excluding the zero frequency \"peak\", which is related to offset\n",
        "    guess_amp = numpy.std(yy) * 2.**0.5\n",
        "    guess_offset = numpy.mean(yy)\n",
        "    guess = numpy.array([guess_amp, 2.*numpy.pi*guess_freq, 0., guess_offset])\n",
        "\n",
        "    def sinfunc(t, A, w, p, c):  return A * numpy.sin(w*t + p) + c\n",
        "    popt, pcov = scipy.optimize.curve_fit(sinfunc, tt, yy, p0=guess)\n",
        "    A, w, p, c = popt\n",
        "    f = w/(2.*numpy.pi)\n",
        "    fitfunc = lambda t: A * numpy.sin(w*t + p) + c\n",
        "    return {\"amp\": A, \"omega\": w, \"phase\": p, \"offset\": c, \"freq\": f, \"period\": 1./f, \"fitfunc\": fitfunc, \"maxcov\": numpy.max(pcov), \"rawres\": (guess,popt,pcov)}"
      ],
      "metadata": {
        "id": "DxR1AmiM8TeE"
      },
      "execution_count": 3,
      "outputs": []
    },
    {
      "cell_type": "code",
      "source": [
        "import numpy, scipy.optimize\n",
        "\n",
        "def fit_sin(tt, yy):\n",
        "    '''Fit sin to the input time sequence, and return fitting parameters \"amp\", \"omega\", \"offset\" and \"fitfunc\"'''\n",
        "    tt = numpy.array(tt)\n",
        "    yy = numpy.array(yy)\n",
        "    ff = numpy.fft.fftfreq(len(tt), (tt[1]-tt[0]))   # assume uniform spacing\n",
        "    guess_amp = numpy.std(yy) * 2.**0.5\n",
        "    guess_offset = numpy.mean(yy)\n",
        "    guess = numpy.array([guess_amp, 0., guess_offset])\n",
        "\n",
        "    def sinfunc(t, A, p, c):  return A * numpy.sin(0.5235987755982988*t + p) + c\n",
        "    popt, pcov = scipy.optimize.curve_fit(sinfunc, tt, yy, p0=guess)\n",
        "    A, p, c = popt\n",
        "    f = 0.5235987755982988/(2.*numpy.pi)\n",
        "    fitfunc = lambda t: A * numpy.sin(0.5235987755982988*t + p) + c\n",
        "    return {\"amp\": A,  \"phase\": p, \"offset\": c, \"fitfunc\": fitfunc, \"maxcov\": numpy.max(pcov), \"rawres\": (guess,popt,pcov)}"
      ],
      "metadata": {
        "id": "ARNRUCTM-95b"
      },
      "execution_count": 10,
      "outputs": []
    },
    {
      "cell_type": "code",
      "source": [
        "from re import findall\n",
        "\n",
        "def inject(data, dataframe, variable):\n",
        "    for i in dataframe.index:\n",
        "\n",
        "        k = []\n",
        "        for j in ['Jan','Feb','Mar','Apr','May','Jun','Jul','Aug','Sep','Oct','Nov','Dec']:\n",
        "            k.append ( float(findall(r\"[-+]?(?:\\d*\\.*\\d+)\", dataframe.loc[i][j] )[0]) )\n",
        "\n",
        "        temporaryNvmVaiable = fit_sin([0,1,2,3,4,5,6,7,8,9,10,11], k)\n",
        "        toAddtemporaryVariable = {}\n",
        "        toAddtemporaryVariable[variable] = {}\n",
        "        toAddtemporaryVariable[variable]['amplitude'] = temporaryNvmVaiable['amp']\n",
        "        toAddtemporaryVariable[variable]['average'] = temporaryNvmVaiable['offset']\n",
        "        toAddtemporaryVariable[variable]['phase'] = temporaryNvmVaiable['phase']\n",
        "\n",
        "        data[(dataframe.loc[i]['City'], dataframe.loc[i]['Country'])] = toAddtemporaryVariable"
      ],
      "metadata": {
        "id": "VdbRxeBUs5yB"
      },
      "execution_count": 24,
      "outputs": []
    },
    {
      "cell_type": "code",
      "source": [
        "import requests\n",
        "import pandas as pd\n",
        "\n",
        "data = {}\n",
        "\n",
        "urls = [{'variable' : 'temperature', 'url' : 'https://en.wikipedia.org/wiki/List_of_cities_by_average_temperature'},\n",
        "        {'variable' : 'sunshine', 'url' : 'https://en.wikipedia.org/wiki/List_of_cities_by_sunshine_duration'}]\n",
        "\n",
        "for url in urls:\n",
        "    html = requests.get(url['url']).content\n",
        "    df_list = pd.read_html(html)\n",
        "    for i in df_list:\n",
        "        try:\n",
        "            inject(data, i, url['variable'])\n",
        "        except:\n",
        "            pass\n"
      ],
      "metadata": {
        "id": "5fdc79mh9Ab4"
      },
      "execution_count": 26,
      "outputs": []
    },
    {
      "cell_type": "code",
      "source": [
        "data[('Warsaw', 'Poland')]"
      ],
      "metadata": {
        "id": "LgrUzmqVk6eO",
        "outputId": "ae0b85b3-17f9-4f72-831e-8765b379d38e",
        "colab": {
          "base_uri": "https://localhost:8080/"
        }
      },
      "execution_count": 28,
      "outputs": [
        {
          "output_type": "execute_result",
          "data": {
            "text/plain": [
              "{'temperature': {'amplitude': 9.607631671680808,\n",
              "  'average': 9.050000001191156,\n",
              "  'phase': -1.576465373858028}}"
            ]
          },
          "metadata": {},
          "execution_count": 28
        }
      ]
    }
  ]
}