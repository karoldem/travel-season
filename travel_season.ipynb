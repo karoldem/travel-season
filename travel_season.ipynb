{
  "nbformat": 4,
  "nbformat_minor": 0,
  "metadata": {
    "colab": {
      "provenance": [],
      "authorship_tag": "ABX9TyPTmBTYuOBIVhbGTGCPf54C",
      "include_colab_link": true
    },
    "kernelspec": {
      "name": "python3",
      "display_name": "Python 3"
    },
    "language_info": {
      "name": "python"
    }
  },
  "cells": [
    {
      "cell_type": "markdown",
      "metadata": {
        "id": "view-in-github",
        "colab_type": "text"
      },
      "source": [
        "<a href=\"https://colab.research.google.com/github/karoldem/travel-season/blob/main/travel_season.ipynb\" target=\"_parent\"><img src=\"https://colab.research.google.com/assets/colab-badge.svg\" alt=\"Open In Colab\"/></a>"
      ]
    },
    {
      "cell_type": "code",
      "source": [
        "import numpy, scipy.optimize\n",
        "\n",
        "def fit_sin(tt, yy):\n",
        "    '''Fit sin to the input time sequence, and return fitting parameters \"amp\", \"omega\", \"phase\", \"offset\", \"freq\", \"period\" and \"fitfunc\"'''\n",
        "    tt = numpy.array(tt)\n",
        "    yy = numpy.array(yy)\n",
        "    ff = numpy.fft.fftfreq(len(tt), (tt[1]-tt[0]))   # assume uniform spacing\n",
        "    Fyy = abs(numpy.fft.fft(yy))\n",
        "    guess_freq = abs(ff[numpy.argmax(Fyy[1:])+1])   # excluding the zero frequency \"peak\", which is related to offset\n",
        "    guess_amp = numpy.std(yy) * 2.**0.5\n",
        "    guess_offset = numpy.mean(yy)\n",
        "    guess = numpy.array([guess_amp, 2.*numpy.pi*guess_freq, 0., guess_offset])\n",
        "\n",
        "    def sinfunc(t, A, w, p, c):  return A * numpy.sin(w*t + p) + c\n",
        "    popt, pcov = scipy.optimize.curve_fit(sinfunc, tt, yy, p0=guess)\n",
        "    A, w, p, c = popt\n",
        "    f = w/(2.*numpy.pi)\n",
        "    fitfunc = lambda t: A * numpy.sin(w*t + p) + c\n",
        "    return {\"amp\": A, \"omega\": w, \"phase\": p, \"offset\": c, \"freq\": f, \"period\": 1./f, \"fitfunc\": fitfunc, \"maxcov\": numpy.max(pcov), \"rawres\": (guess,popt,pcov)}"
      ],
      "metadata": {
        "id": "DxR1AmiM8TeE"
      },
      "execution_count": 1,
      "outputs": []
    },
    {
      "cell_type": "code",
      "source": [
        "import numpy, scipy.optimize\n",
        "\n",
        "def fit_sin(tt, yy):\n",
        "    '''Fit sin to the input time sequence, and return fitting parameters \"amp\", \"omega\", \"offset\" and \"fitfunc\"'''\n",
        "    tt = numpy.array(tt)\n",
        "    yy = numpy.array(yy)\n",
        "    ff = numpy.fft.fftfreq(len(tt), (tt[1]-tt[0]))   # assume uniform spacing\n",
        "    guess_amp = numpy.std(yy) * 2.**0.5\n",
        "    guess_offset = numpy.mean(yy)\n",
        "    guess = numpy.array([guess_amp, 0., guess_offset])\n",
        "\n",
        "    def sinfunc(t, A, p, c):  return A * numpy.sin(0.5235987755982988*t + p) + c\n",
        "    popt, pcov = scipy.optimize.curve_fit(sinfunc, tt, yy, p0=guess)\n",
        "    A, p, c = popt\n",
        "    f = 0.5235987755982988/(2.*numpy.pi)\n",
        "    fitfunc = lambda t: A * numpy.sin(0.5235987755982988*t + p) + c\n",
        "    return {\"amp\": A,  \"phase\": p, \"offset\": c, \"fitfunc\": fitfunc, \"maxcov\": numpy.max(pcov), \"rawres\": (guess,popt,pcov)}"
      ],
      "metadata": {
        "id": "ARNRUCTM-95b"
      },
      "execution_count": 2,
      "outputs": []
    },
    {
      "cell_type": "code",
      "source": [
        "from re import findall\n",
        "\n",
        "def inject(data, dataframe, variable):\n",
        "\n",
        "    if not set(['Jan','Feb','Mar','Apr','May','Jun','Jul','Aug','Sep','Oct','Nov','Dec', 'City', 'Country']).issubset(dataframe):\n",
        "        return \"Not a valid dataframe\"\n",
        "\n",
        "    for i in dataframe.index:\n",
        "\n",
        "        k = []\n",
        "        for j in ['Jan','Feb','Mar','Apr','May','Jun','Jul','Aug','Sep','Oct','Nov','Dec']:\n",
        "\n",
        "            string = dataframe.loc[i][j]\n",
        "\n",
        "            if isinstance(string, float):\n",
        "                k.append(string)\n",
        "\n",
        "            else:\n",
        "                string = string.replace('−', '-') #No, they are not the same\n",
        "                string = findall(r\"[-+]?(?:\\d*\\.*\\d*)\", string )\n",
        "                string = list(   filter( ('').__ne__, string )   )[0]\n",
        "                k.append ( float(string) )\n",
        "\n",
        "        temporaryNvmVaiable = fit_sin([0,1,2,3,4,5,6,7,8,9,10,11], k)\n",
        "        toAddtemporaryVariable = {}\n",
        "        toAddtemporaryVariable['amplitude'] = temporaryNvmVaiable['amp']\n",
        "        toAddtemporaryVariable['average']   = temporaryNvmVaiable['offset']\n",
        "        toAddtemporaryVariable['phase']     = temporaryNvmVaiable['phase']\n",
        "\n",
        "        key = (dataframe.loc[i]['City'], dataframe.loc[i]['Country'])\n",
        "\n",
        "        if key in data:\n",
        "            data[key][variable] = toAddtemporaryVariable\n",
        "\n",
        "        else:\n",
        "            data[key] = {variable: toAddtemporaryVariable}"
      ],
      "metadata": {
        "id": "VdbRxeBUs5yB"
      },
      "execution_count": 3,
      "outputs": []
    },
    {
      "cell_type": "code",
      "source": [
        "import requests\n",
        "import pandas as pd\n",
        "\n",
        "data = {}\n",
        "k = []\n",
        "\n",
        "urls = [{'variable' : 'temperature', 'url' : 'https://en.wikipedia.org/wiki/List_of_cities_by_average_temperature'},\n",
        "        {'variable' : 'sunshine', 'url' : 'https://en.wikipedia.org/wiki/List_of_cities_by_sunshine_duration'}]\n",
        "\n",
        "for url in urls:\n",
        "    html = requests.get(url['url']).content\n",
        "    df_list = pd.read_html(html)\n",
        "    for i in df_list:\n",
        "        inject(data, i, url['variable'])\n",
        "        k.append(i)\n",
        "\n"
      ],
      "metadata": {
        "id": "5fdc79mh9Ab4"
      },
      "execution_count": 4,
      "outputs": []
    },
    {
      "cell_type": "code",
      "source": [
        "data[('Warsaw', 'Poland')]\n",
        "\n",
        "record = k[2].loc[lambda df: df['City'] == \"Warsaw\"]\n",
        "\n",
        "blah = []\n",
        "for j in ['Jan','Feb','Mar','Apr','May','Jun','Jul','Aug','Sep','Oct','Nov','Dec']:\n",
        "\n",
        "    string = str(record[j])\n",
        "\n",
        "    if isinstance(string, float):\n",
        "        blah.append(string)\n",
        "\n",
        "    else:\n",
        "        print(string)\n",
        "        string = string.replace('−', '-') #No, they are not the same\n",
        "        string = findall(r\"[-+]?(?:\\d*\\.*\\d*)\", string )\n",
        "        string = list(   filter( ('').__ne__, string )   )[1]\n",
        "        blah.append ( float(string) )\n",
        "\n",
        "blah"
      ],
      "metadata": {
        "colab": {
          "base_uri": "https://localhost:8080/"
        },
        "id": "LgrUzmqVk6eO",
        "outputId": "5e4ded52-5ec3-4dd0-f67b-d6a07a32e85f"
      },
      "execution_count": 15,
      "outputs": [
        {
          "output_type": "stream",
          "name": "stdout",
          "text": [
            "47    −1.8(28.8)\n",
            "Name: Jan, dtype: object\n",
            "47    −0.6(30.9)\n",
            "Name: Feb, dtype: object\n",
            "47    2.8(37.0)\n",
            "Name: Mar, dtype: object\n",
            "47    8.7(47.7)\n",
            "Name: Apr, dtype: object\n",
            "47    14.2(57.6)\n",
            "Name: May, dtype: object\n",
            "47    17.0(62.6)\n",
            "Name: Jun, dtype: object\n",
            "47    19.2(66.6)\n",
            "Name: Jul, dtype: object\n",
            "47    18.3(64.9)\n",
            "Name: Aug, dtype: object\n",
            "47    13.5(56.3)\n",
            "Name: Sep, dtype: object\n",
            "47    8.5(47.3)\n",
            "Name: Oct, dtype: object\n",
            "47    3.3(37.9)\n",
            "Name: Nov, dtype: object\n",
            "47    −0.7(30.7)\n",
            "Name: Dec, dtype: object\n"
          ]
        },
        {
          "output_type": "execute_result",
          "data": {
            "text/plain": [
              "[-1.8, -0.6, 2.8, 8.7, 14.2, 17.0, 19.2, 18.3, 13.5, 8.5, 3.3, -0.7]"
            ]
          },
          "metadata": {},
          "execution_count": 15
        }
      ]
    },
    {
      "cell_type": "code",
      "source": [
        "blablah = [-1.8, -0.6, 2.8, 8.7, 14.2, 17.0, 19.2, 18.3, 13.5, 8.5, 3.3, -0.7]"
      ],
      "metadata": {
        "id": "zeFvDK_I87-A"
      },
      "execution_count": 16,
      "outputs": []
    }
  ]
}