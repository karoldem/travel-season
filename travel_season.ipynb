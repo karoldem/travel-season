{
  "nbformat": 4,
  "nbformat_minor": 0,
  "metadata": {
    "colab": {
      "provenance": [],
      "authorship_tag": "ABX9TyNuvJSSD2M0Sv2OEfEJ9avM",
      "include_colab_link": true
    },
    "kernelspec": {
      "name": "python3",
      "display_name": "Python 3"
    },
    "language_info": {
      "name": "python"
    }
  },
  "cells": [
    {
      "cell_type": "markdown",
      "metadata": {
        "id": "view-in-github",
        "colab_type": "text"
      },
      "source": [
        "<a href=\"https://colab.research.google.com/github/karoldem/travel-season/blob/main/travel_season.ipynb\" target=\"_parent\"><img src=\"https://colab.research.google.com/assets/colab-badge.svg\" alt=\"Open In Colab\"/></a>"
      ]
    },
    {
      "cell_type": "code",
      "execution_count": 9,
      "metadata": {
        "id": "rAAyOtscXgXd"
      },
      "outputs": [],
      "source": [
        "import pandas as pd\n",
        "europe = \"https://raw.githubusercontent.com/karoldem/travel-season/main/List_of_cities_by_average_temperature_1.csv\"\n",
        "europe = pd.read_csv(europe)\n",
        "\n",
        "listOfMonths = ['Jan','Feb','Mar','Apr','May','Jun','Jul','Aug','Sep','Oct','Nov','Dec']"
      ]
    },
    {
      "cell_type": "code",
      "source": [
        "import numpy, scipy.optimize\n",
        "\n",
        "def fit_sin(tt, yy):\n",
        "    '''Fit sin to the input time sequence, and return fitting parameters \"amp\", \"omega\", \"phase\", \"offset\", \"freq\", \"period\" and \"fitfunc\"'''\n",
        "    tt = numpy.array(tt)\n",
        "    yy = numpy.array(yy)\n",
        "    ff = numpy.fft.fftfreq(len(tt), (tt[1]-tt[0]))   # assume uniform spacing\n",
        "    Fyy = abs(numpy.fft.fft(yy))\n",
        "    guess_freq = abs(ff[numpy.argmax(Fyy[1:])+1])   # excluding the zero frequency \"peak\", which is related to offset\n",
        "    guess_amp = numpy.std(yy) * 2.**0.5\n",
        "    guess_offset = numpy.mean(yy)\n",
        "    guess = numpy.array([guess_amp, 2.*numpy.pi*guess_freq, 0., guess_offset])\n",
        "\n",
        "    def sinfunc(t, A, w, p, c):  return A * numpy.sin(w*t + p) + c\n",
        "    popt, pcov = scipy.optimize.curve_fit(sinfunc, tt, yy, p0=guess)\n",
        "    A, w, p, c = popt\n",
        "    f = w/(2.*numpy.pi)\n",
        "    fitfunc = lambda t: A * numpy.sin(w*t + p) + c\n",
        "    return {\"amp\": A, \"omega\": w, \"phase\": p, \"offset\": c, \"freq\": f, \"period\": 1./f, \"fitfunc\": fitfunc, \"maxcov\": numpy.max(pcov), \"rawres\": (guess,popt,pcov)}"
      ],
      "metadata": {
        "id": "DxR1AmiM8TeE"
      },
      "execution_count": 14,
      "outputs": []
    },
    {
      "cell_type": "code",
      "source": [
        "import numpy, scipy.optimize\n",
        "\n",
        "def fit_sin(tt, yy):\n",
        "    '''Fit sin to the input time sequence, and return fitting parameters \"amp\", \"omega\", \"offset\" and \"fitfunc\"'''\n",
        "    tt = numpy.array(tt)\n",
        "    yy = numpy.array(yy)\n",
        "    ff = numpy.fft.fftfreq(len(tt), (tt[1]-tt[0]))   # assume uniform spacing\n",
        "    guess_amp = numpy.std(yy) * 2.**0.5\n",
        "    guess_offset = numpy.mean(yy)\n",
        "    guess = numpy.array([guess_amp, 0., guess_offset])\n",
        "\n",
        "    def sinfunc(t, A, p, c):  return A * numpy.sin(0.5235987755982988*t + p) + c\n",
        "    popt, pcov = scipy.optimize.curve_fit(sinfunc, tt, yy, p0=guess)\n",
        "    A, p, c = popt\n",
        "    f = 0.5235987755982988/(2.*numpy.pi)\n",
        "    fitfunc = lambda t: A * numpy.sin(0.5235987755982988*t + p) + c\n",
        "    return {\"amp\": A,  \"phase\": p, \"offset\": c, \"fitfunc\": fitfunc, \"maxcov\": numpy.max(pcov), \"rawres\": (guess,popt,pcov)}"
      ],
      "metadata": {
        "id": "ARNRUCTM-95b"
      },
      "execution_count": 26,
      "outputs": []
    },
    {
      "cell_type": "code",
      "source": [
        "data = {}\n",
        "\n",
        "for i in europe.index:\n",
        "    k = []\n",
        "\n",
        "    for j in listOfMonths:\n",
        "        k.append ( float(europe.loc[i][j].split('\\n')[0]) )\n",
        "\n",
        "    temporaryNvmVaiable = fit_sin([0,1,2,3,4,5,6,7,8,9,10,11], k)\n",
        "    toAddtemporaryVariable = {}\n",
        "    toAddtemporaryVariable['temperature'] = {}\n",
        "    toAddtemporaryVariable['temperature']['amplitude'] = temporaryNvmVaiable['amp']\n",
        "    toAddtemporaryVariable['temperature']['average'] = temporaryNvmVaiable['offset']\n",
        "    toAddtemporaryVariable['temperature']['phase'] = temporaryNvmVaiable['phase']\n",
        "\n",
        "    data[(europe.loc[i]['City'], europe.loc[i]['Country'])] = toAddtemporaryVariable\n",
        "    \n",
        "    break\n",
        "\n",
        "data"
      ],
      "metadata": {
        "colab": {
          "base_uri": "https://localhost:8080/"
        },
        "id": "VdbRxeBUs5yB",
        "outputId": "93450be9-94b4-4afb-a387-bf96e9d96239"
      },
      "execution_count": 33,
      "outputs": [
        {
          "output_type": "execute_result",
          "data": {
            "text/plain": [
              "{('Algiers',\n",
              "  'Algeria'): {'temperature': {'amplitude': 6.936254984230482,\n",
              "   'average': 17.441666666666052,\n",
              "   'phase': -1.9034829889098737}}}"
            ]
          },
          "metadata": {},
          "execution_count": 33
        }
      ]
    },
    {
      "cell_type": "code",
      "source": [],
      "metadata": {
        "id": "5fdc79mh9Ab4",
        "outputId": "82002c79-43b6-42ec-9280-b7cdd90007c7",
        "colab": {
          "base_uri": "https://localhost:8080/"
        }
      },
      "execution_count": 22,
      "outputs": [
        {
          "output_type": "execute_result",
          "data": {
            "text/plain": [
              "0.5235987755982988"
            ]
          },
          "metadata": {},
          "execution_count": 22
        }
      ]
    }
  ]
}